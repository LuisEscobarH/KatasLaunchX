{
 "cells": [
  {
   "cell_type": "markdown",
   "metadata": {},
   "source": [
    "# Ejercicio1 - Utilizar operadores aritméticos"
   ]
  },
  {
   "cell_type": "code",
   "execution_count": 2,
   "metadata": {},
   "outputs": [
    {
     "name": "stdout",
     "output_type": "stream",
     "text": [
      "La distancia entre planetas en kilometros es de: 628949330\n",
      "La distancia entre planetas en millas es de: 390577533.93\n"
     ]
    }
   ],
   "source": [
    "planeta_1 = 149597870\n",
    "planeta_2 = 778547200\n",
    "\n",
    "distancia_km = planeta_2 - planeta_1\n",
    "print(\"La distancia entre planetas en kilometros es de: \" + str(distancia_km))\n",
    "\n",
    "distancia_mi = distancia_km * 0.621\n",
    "print(\"La distancia entre planetas en millas es de: \" + str(distancia_mi))"
   ]
  },
  {
   "cell_type": "markdown",
   "metadata": {},
   "source": [
    "# Ejercicio 2: convierte cadenas en números y usa valores absolutos"
   ]
  },
  {
   "cell_type": "code",
   "execution_count": 5,
   "metadata": {},
   "outputs": [
    {
     "name": "stdout",
     "output_type": "stream",
     "text": [
      "La distancia entre planetas en kilometros es de: 78300000\n",
      "La distancia entre planetas en millas es de: 48624300.0\n"
     ]
    }
   ],
   "source": [
    "planeta_1 = input(\"Ingresa la distancia del sol al primer planeta en kilometros: \")\n",
    "planeta_2 = input(\"Ingresa la distancia del sol al segundo planeta en kilometros: \")\n",
    "\n",
    "planeta_1 = int(planeta_1)\n",
    "planeta_2 = int(planeta_2)\n",
    "\n",
    "distancia_km = planeta_2 - planeta_1\n",
    "print(\"La distancia entre planetas en kilometros es de: \" + str(distancia_km))\n",
    "\n",
    "distancia_mi = distancia_km * 0.621\n",
    "print(\"La distancia entre planetas en millas es de: \" + str(abs(distancia_mi)))"
   ]
  }
 ],
 "metadata": {
  "interpreter": {
   "hash": "346e023a6a0f8a8ccb7f5a655cb40958af727506f9fca441cd78ee24a8af0b33"
  },
  "kernelspec": {
   "display_name": "Python 3.9.10 64-bit (windows store)",
   "language": "python",
   "name": "python3"
  },
  "language_info": {
   "codemirror_mode": {
    "name": "ipython",
    "version": 3
   },
   "file_extension": ".py",
   "mimetype": "text/x-python",
   "name": "python",
   "nbconvert_exporter": "python",
   "pygments_lexer": "ipython3",
   "version": "3.9.10"
  },
  "orig_nbformat": 4
 },
 "nbformat": 4,
 "nbformat_minor": 2
}
