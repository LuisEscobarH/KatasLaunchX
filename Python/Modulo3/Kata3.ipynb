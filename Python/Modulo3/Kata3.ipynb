{
 "cells": [
  {
   "cell_type": "markdown",
   "metadata": {},
   "source": [
    "# Ejercicio 1"
   ]
  },
  {
   "cell_type": "code",
   "execution_count": 4,
   "metadata": {},
   "outputs": [
    {
     "name": "stdout",
     "output_type": "stream",
     "text": [
      "SE DETECTO UN ASTEROIDE, VIAJA A UNA VELOCIDAD DE: 49 km/s\n"
     ]
    }
   ],
   "source": [
    "velocidadAsteroide = 49\n",
    "\n",
    "if velocidadAsteroide > 25:\n",
    "    print(\"SE DETECTO UN ASTEROIDE, VIAJA A UNA VELOCIDAD DE: \" + str(velocidadAsteroide) + \" km/s\")\n",
    "else:\n",
    "    print(\"Todo esta bien por ahora\")"
   ]
  },
  {
   "cell_type": "markdown",
   "metadata": {},
   "source": [
    "# Ejercicio 2"
   ]
  },
  {
   "cell_type": "code",
   "execution_count": 8,
   "metadata": {},
   "outputs": [
    {
     "name": "stdout",
     "output_type": "stream",
     "text": [
      "No hay nada que ver :(\n"
     ]
    }
   ],
   "source": [
    "velocidadAsteroide = 19\n",
    "\n",
    "if velocidadAsteroide > 20:\n",
    "    print(\"Atención, en este momento puedes ver un rayo de luz en el cielo\")\n",
    "elif velocidadAsteroide == 20:\n",
    "    print(\"Atención, en este momento puedes ver un rayo de luz en el cielo\")\n",
    "else:\n",
    "    print(\"No hay nada que ver :(\")"
   ]
  },
  {
   "cell_type": "markdown",
   "metadata": {},
   "source": [
    "# Ejercicio 3"
   ]
  },
  {
   "cell_type": "code",
   "execution_count": 12,
   "metadata": {},
   "outputs": [
    {
     "name": "stdout",
     "output_type": "stream",
     "text": [
      "Atención, en este momento puedes ver un rayo de luz en el cielo\n"
     ]
    }
   ],
   "source": [
    "diametroAsteroide = 25\n",
    "velocidadAsteroide = 40\n",
    "\n",
    "if diametroAsteroide > 25 and velocidadAsteroide > 25:\n",
    "    print(\"CUIDADO, UN ASTEROIDE DETECTADO ES POTENCIALMENTE PELIGROSO\")\n",
    "    print(\"Tiene un diametro de: \" + str(diametroAsteroide) + \" y viaja a una velocidad de: \" + str(velocidadAsteroide) + \"km/s\")\n",
    "elif velocidadAsteroide >= 20:\n",
    "    print(\"Atención, en este momento puedes ver un rayo de luz en el cielo\")\n",
    "elif diametroAsteroide < 25:\n",
    "    print(\"No hay nada que ver :(\")\n",
    "else:\n",
    "    print(\"No hay nada que ver :(\")"
   ]
  }
 ],
 "metadata": {
  "interpreter": {
   "hash": "346e023a6a0f8a8ccb7f5a655cb40958af727506f9fca441cd78ee24a8af0b33"
  },
  "kernelspec": {
   "display_name": "Python 3.9.10 64-bit (windows store)",
   "language": "python",
   "name": "python3"
  },
  "language_info": {
   "codemirror_mode": {
    "name": "ipython",
    "version": 3
   },
   "file_extension": ".py",
   "mimetype": "text/x-python",
   "name": "python",
   "nbconvert_exporter": "python",
   "pygments_lexer": "ipython3",
   "version": "3.9.10"
  },
  "orig_nbformat": 4
 },
 "nbformat": 4,
 "nbformat_minor": 2
}
